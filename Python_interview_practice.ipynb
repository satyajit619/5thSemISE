{
  "nbformat": 4,
  "nbformat_minor": 0,
  "metadata": {
    "colab": {
      "provenance": [],
      "authorship_tag": "ABX9TyOwbCYvMLn1nRYT5UlU7wtw",
      "include_colab_link": true
    },
    "kernelspec": {
      "name": "python3",
      "display_name": "Python 3"
    },
    "language_info": {
      "name": "python"
    }
  },
  "cells": [
    {
      "cell_type": "markdown",
      "metadata": {
        "id": "view-in-github",
        "colab_type": "text"
      },
      "source": [
        "<a href=\"https://colab.research.google.com/github/satyajit619/5thSemISE/blob/master/Python_interview_practice.ipynb\" target=\"_parent\"><img src=\"https://colab.research.google.com/assets/colab-badge.svg\" alt=\"Open In Colab\"/></a>"
      ]
    },
    {
      "cell_type": "code",
      "execution_count": 1,
      "metadata": {
        "id": "ywcWB79cU6xi"
      },
      "outputs": [],
      "source": [
        "import pandas as pd\n",
        "import numpy as np\n",
        "\n",
        "# Sample DataFrame\n",
        "data = {'Name': ['Alice', 'Bob', 'Charlie'], 'Age': [25, 30, 35]}\n",
        "df = pd.DataFrame(data)"
      ]
    },
    {
      "cell_type": "code",
      "source": [
        "for row in df.itertuples(index=True):\n",
        "  print(row.index,row.Name,row.Age)"
      ],
      "metadata": {
        "colab": {
          "base_uri": "https://localhost:8080/"
        },
        "id": "oAtZpic9WOfh",
        "outputId": "0dea47af-a5ff-4d6f-dd5f-aa1bef5517e3"
      },
      "execution_count": 2,
      "outputs": [
        {
          "output_type": "stream",
          "name": "stdout",
          "text": [
            "<built-in method index of Pandas object at 0x7fef97e66f20> Alice 25\n",
            "<built-in method index of Pandas object at 0x7fef97e66e80> Bob 30\n",
            "<built-in method index of Pandas object at 0x7fef97e66f20> Charlie 35\n"
          ]
        }
      ]
    },
    {
      "cell_type": "code",
      "source": [
        "for index,row in df.iterrows():\n",
        "    print(index,row.Name,row.Age)"
      ],
      "metadata": {
        "colab": {
          "base_uri": "https://localhost:8080/"
        },
        "id": "ch-MnlviVlGx",
        "outputId": "ba437a34-545d-42dc-b329-a72918ab9cc3"
      },
      "execution_count": 3,
      "outputs": [
        {
          "output_type": "stream",
          "name": "stdout",
          "text": [
            "0 Alice 25\n",
            "1 Bob 30\n",
            "2 Charlie 35\n"
          ]
        }
      ]
    },
    {
      "cell_type": "markdown",
      "source": [
        "**Key Differences\n",
        "Performance: itertuples() is generally faster and more efficient than iterrows().\n",
        "Output Type: iterrows() provides each row as a pandas Series, while itertuples() provides each row as a namedtuple.**"
      ],
      "metadata": {
        "id": "8Fk4faXfY3kX"
      }
    },
    {
      "cell_type": "code",
      "source": [
        "data1 = {'Name': ['Alice', 'Bob', 'Charlie'],\n",
        "        'Age': [25, 30, 35],\n",
        "        'City': ['New York', 'Los Angeles', 'Chicago']}\n",
        "df = pd.DataFrame(data1)"
      ],
      "metadata": {
        "id": "tql-MCpAXfQU"
      },
      "execution_count": 4,
      "outputs": []
    },
    {
      "cell_type": "code",
      "source": [
        "#loc is label based indexing\n",
        "row = df.loc[0:2,[\"Name\",\"City\"]]\n",
        "print(row)"
      ],
      "metadata": {
        "colab": {
          "base_uri": "https://localhost:8080/"
        },
        "id": "gfEZjGAUYapK",
        "outputId": "978b90fd-2d57-42c3-e785-ebcf849c69ac"
      },
      "execution_count": 5,
      "outputs": [
        {
          "output_type": "stream",
          "name": "stdout",
          "text": [
            "      Name         City\n",
            "0    Alice     New York\n",
            "1      Bob  Los Angeles\n",
            "2  Charlie      Chicago\n"
          ]
        }
      ]
    },
    {
      "cell_type": "code",
      "source": [
        "# select rows by condition\n",
        "filtered_df = df.loc[df[\"Age\"]>25]\n",
        "print(filtered_df)"
      ],
      "metadata": {
        "colab": {
          "base_uri": "https://localhost:8080/"
        },
        "id": "d6U9FpL6ZqUv",
        "outputId": "7848c88c-d367-49ec-f975-87e18ea0f7fa"
      },
      "execution_count": 6,
      "outputs": [
        {
          "output_type": "stream",
          "name": "stdout",
          "text": [
            "      Name  Age         City\n",
            "1      Bob   30  Los Angeles\n",
            "2  Charlie   35      Chicago\n"
          ]
        }
      ]
    },
    {
      "cell_type": "code",
      "source": [
        "#iloc is integer-location based indexing\n",
        "row = df.iloc[1]\n",
        "print(row)\n",
        "row2 = df.iloc[1:3]\n",
        "print(row2)\n"
      ],
      "metadata": {
        "colab": {
          "base_uri": "https://localhost:8080/"
        },
        "id": "ajBmTu03adjx",
        "outputId": "f0a62d06-a2e3-4c8f-f224-4294a64b9b7d"
      },
      "execution_count": 7,
      "outputs": [
        {
          "output_type": "stream",
          "name": "stdout",
          "text": [
            "Name            Bob\n",
            "Age              30\n",
            "City    Los Angeles\n",
            "Name: 1, dtype: object\n",
            "      Name  Age         City\n",
            "1      Bob   30  Los Angeles\n",
            "2  Charlie   35      Chicago\n"
          ]
        }
      ]
    },
    {
      "cell_type": "code",
      "source": [
        "#select specific rows and column by integer index\n",
        "df2 = df.iloc[0:2,[0,1,2]]\n",
        "# print(df2)\n",
        "df3 = df.iloc[-1]\n",
        "print(df3)"
      ],
      "metadata": {
        "colab": {
          "base_uri": "https://localhost:8080/"
        },
        "id": "7vkdJ9O1bV79",
        "outputId": "c4c7a664-e27f-408e-d095-39854f960b1b"
      },
      "execution_count": 8,
      "outputs": [
        {
          "output_type": "stream",
          "name": "stdout",
          "text": [
            "Name    Charlie\n",
            "Age          35\n",
            "City    Chicago\n",
            "Name: 2, dtype: object\n"
          ]
        }
      ]
    },
    {
      "cell_type": "code",
      "source": [
        "#setting case condition to create statement using np.where\n",
        "df[\"Status\"] = np.where(df[\"Age\"]>25,\"adult\",\"not_adult\")\n",
        "print(df)"
      ],
      "metadata": {
        "colab": {
          "base_uri": "https://localhost:8080/"
        },
        "id": "_W4coM62blV0",
        "outputId": "f3b618b5-f411-4040-f825-a146a218dfff"
      },
      "execution_count": 9,
      "outputs": [
        {
          "output_type": "stream",
          "name": "stdout",
          "text": [
            "      Name  Age         City     Status\n",
            "0    Alice   25     New York  not_adult\n",
            "1      Bob   30  Los Angeles      adult\n",
            "2  Charlie   35      Chicago      adult\n"
          ]
        }
      ]
    },
    {
      "cell_type": "code",
      "source": [
        "#setting case condition to use apply,lambda function\n",
        "\n",
        "df[\"status1\"] = df[\"Age\"].apply(lambda x : \"adult\" if x>25 else \"not_adult\")\n",
        "print(df)"
      ],
      "metadata": {
        "colab": {
          "base_uri": "https://localhost:8080/"
        },
        "id": "UrhjZpmSdHzA",
        "outputId": "b814c079-245a-47a3-8fee-169d806809ad"
      },
      "execution_count": 10,
      "outputs": [
        {
          "output_type": "stream",
          "name": "stdout",
          "text": [
            "      Name  Age         City     Status    status1\n",
            "0    Alice   25     New York  not_adult  not_adult\n",
            "1      Bob   30  Los Angeles      adult      adult\n",
            "2  Charlie   35      Chicago      adult      adult\n"
          ]
        }
      ]
    },
    {
      "cell_type": "markdown",
      "source": [
        "**map applies a function to all items in an iterable and returns a new iterable with the transformed items.**"
      ],
      "metadata": {
        "id": "8FHRmnC-jOeV"
      }
    },
    {
      "cell_type": "code",
      "source": [
        "numbers = [1, 2, 3, 4]\n",
        "numlist = list(map(lambda x: x*x,numbers))\n",
        "print(numlist)\n",
        "\n",
        "#Map must have two arguement\n",
        "\n",
        "fruits = ['apple', 'banana', 'cherry']\n",
        "fruit_upper = list(map(lambda x: x.upper,fruits))\n",
        "print(fruit_upper)"
      ],
      "metadata": {
        "colab": {
          "base_uri": "https://localhost:8080/"
        },
        "id": "UUmKstWtdk0H",
        "outputId": "75177d0b-61e4-4034-a879-44706e28e4ca"
      },
      "execution_count": 11,
      "outputs": [
        {
          "output_type": "stream",
          "name": "stdout",
          "text": [
            "[1, 4, 9, 16]\n",
            "[<built-in method upper of str object at 0x7fef97ca50b0>, <built-in method upper of str object at 0x7fef97ca53b0>, <built-in method upper of str object at 0x7fef97ca4370>]\n"
          ]
        }
      ]
    },
    {
      "cell_type": "markdown",
      "source": [
        "**filter applies a function that returns a Boolean value to each item and only keeps the items that return True.**"
      ],
      "metadata": {
        "id": "taoek8cDkabT"
      }
    },
    {
      "cell_type": "code",
      "source": [
        "words = ['apple', 'banana', 'cherry', 'date', 'fig']\n",
        "\n",
        "wordlist = list(filter(lambda x : \"a\" in x, words))\n",
        "print(wordlist)\n",
        "\n",
        "#Filter take two arguement\n",
        "\n",
        "numbers = [-10, -5, 0, 5, 10]\n",
        "positive_numbers = list(filter(lambda x: x>0, numbers))\n",
        "print(positive_numbers)"
      ],
      "metadata": {
        "colab": {
          "base_uri": "https://localhost:8080/"
        },
        "id": "6aJkSPTrjeqo",
        "outputId": "1f12f150-0f94-423b-c5bb-c727ae9e6872"
      },
      "execution_count": 12,
      "outputs": [
        {
          "output_type": "stream",
          "name": "stdout",
          "text": [
            "['apple', 'banana', 'date']\n",
            "[5, 10]\n"
          ]
        }
      ]
    },
    {
      "cell_type": "markdown",
      "source": [
        "\n",
        "* **Encapsulation: Restricts direct access to an object’s data and methods.**\n",
        "\n"
      ],
      "metadata": {
        "id": "-1af-Hizogai"
      }
    },
    {
      "cell_type": "code",
      "source": [
        "class Person:\n",
        "    def __init__(self, name:str,age:int):\n",
        "      self.name = name\n",
        "      self.__age = age #Private attribute with double underscore\n",
        "\n",
        "    def get_age(self):\n",
        "      return self.__age\n",
        "\n",
        "    def set_age(self,age):\n",
        "      if age>0:\n",
        "        self.__age = age\n",
        "      else:\n",
        "        print(\"Age must be > 0 \")\n",
        "\n",
        "person = Person(\"Pepe\",31)\n",
        "\n",
        "print(person.name)\n",
        "print(person.get_age())\n",
        "person.set_age(35)\n",
        "print(person.get_age())\n",
        "\n",
        "#We cannot directly call the print(person.__age) as it is a private variable and it is restricted"
      ],
      "metadata": {
        "colab": {
          "base_uri": "https://localhost:8080/"
        },
        "id": "XJrh2uUkkySB",
        "outputId": "6ae8c797-d8cc-4791-ca00-eb0787266e52"
      },
      "execution_count": 16,
      "outputs": [
        {
          "output_type": "stream",
          "name": "stdout",
          "text": [
            "Pepe\n",
            "31\n",
            "35\n"
          ]
        }
      ]
    },
    {
      "cell_type": "markdown",
      "source": [
        "\n",
        "\n",
        "*  **Inheritance allows a child class to inherit all the method and attribute from its parent or base class**\n",
        "\n",
        "\n"
      ],
      "metadata": {
        "id": "m5FsVFQUrTlQ"
      }
    },
    {
      "cell_type": "code",
      "source": [
        "#Base Class\n",
        "  def __init__(self,name):\n",
        "    self.name = name\n",
        "\n",
        "  def speak(self):\n",
        "    return print(f\"{self.name} Makes a sound\")\n",
        "\n",
        "#child Class\n",
        "class Dog(Animal):\n",
        "  def speak(self):\n",
        "    return print(f\"{self.name} Barks\")\n",
        "\n",
        "dog = Dog(\"Buggy\")\n",
        "print(dog.speak())\n"
      ],
      "metadata": {
        "colab": {
          "base_uri": "https://localhost:8080/"
        },
        "id": "gyR7kKodo8LD",
        "outputId": "f8ffa652-f298-4295-982e-7f3e372c72f5"
      },
      "execution_count": 17,
      "outputs": [
        {
          "output_type": "stream",
          "name": "stdout",
          "text": [
            "Buggy Barks\n",
            "None\n"
          ]
        }
      ]
    },
    {
      "cell_type": "markdown",
      "source": [
        "\n",
        "\n",
        "1.   **Polymorphism allows methods or functions to use objects of different classes interchangeably. It means \"many forms\" and can be achieved through method overloading, method overriding**\n",
        "\n"
      ],
      "metadata": {
        "id": "R1vrq_5sy1k4"
      }
    },
    {
      "cell_type": "code",
      "source": [
        "class Animal:\n",
        "  def speak(self):\n",
        "      pass\n",
        "\n",
        "class Dog(Animal):\n",
        "    def speak(self):\n",
        "      return print(\"Dog Barks\")\n",
        "\n",
        "class Cat(Animal):\n",
        "    def speak(self):\n",
        "      return print(\"Cat Barks\")\n",
        "\n",
        "#Polymorphism in action\n",
        "def make_animal_sound(animal):\n",
        "  animal.speak()\n",
        "\n",
        "dog = Dog()\n",
        "cat = Cat()\n",
        "\n",
        "make_animal_sound(dog)\n",
        "make_animal_sound(cat)"
      ],
      "metadata": {
        "colab": {
          "base_uri": "https://localhost:8080/"
        },
        "id": "gBl6tfeSlEIP",
        "outputId": "e068785f-b736-4cc7-83f5-e96e267a3bc4"
      },
      "execution_count": 21,
      "outputs": [
        {
          "output_type": "stream",
          "name": "stdout",
          "text": [
            "Dog Barks\n",
            "Cat Barks\n"
          ]
        }
      ]
    },
    {
      "cell_type": "markdown",
      "source": [
        "\n",
        "\n",
        "*  **Abstraction hides the complex implementation details and shows only the essential features of an object**\n"
      ],
      "metadata": {
        "id": "QfB9VM0VDelB"
      }
    },
    {
      "cell_type": "code",
      "source": [
        "from abc import ABC,abstractmethod\n",
        "\n",
        "class Vehicle(ABC):\n",
        "  @abstractmethod\n",
        "  def start_engine(self):\n",
        "    pass\n",
        "\n",
        "  @abstractmethod\n",
        "  def stop_engine(self):\n",
        "    pass\n",
        "\n",
        "\n",
        "class Car(Vehicle):\n",
        "  def start_engine(self):\n",
        "    print(\"car engine started\")\n",
        "\n",
        "\n",
        "  def stop_engine(self):\n",
        "    print(\"car engine stopped\")\n",
        "\n",
        "\n",
        "car = Car()\n",
        "car.start_engine()\n",
        "car.stop_engine()\n"
      ],
      "metadata": {
        "colab": {
          "base_uri": "https://localhost:8080/"
        },
        "id": "wV1h8bGEDymx",
        "outputId": "c9bda7ef-6398-4fe3-bd28-aff0d7591f89"
      },
      "execution_count": 22,
      "outputs": [
        {
          "output_type": "stream",
          "name": "stdout",
          "text": [
            "car engine started\n",
            "car engine stopped\n"
          ]
        }
      ]
    },
    {
      "cell_type": "code",
      "source": [],
      "metadata": {
        "id": "sb_qSCHwCb7d"
      },
      "execution_count": null,
      "outputs": []
    }
  ]
}